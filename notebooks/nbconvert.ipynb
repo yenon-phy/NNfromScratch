{
 "cells": [
  {
   "cell_type": "code",
   "execution_count": 1,
   "metadata": {},
   "outputs": [],
   "source": [
    "dict_nb = {\n",
    "    'functions': '../src/common',\n",
    "    'layers': '../src/common',\n",
    "    'neuralnet': '../src/models'\n",
    "}"
   ]
  },
  {
   "cell_type": "code",
   "execution_count": 2,
   "metadata": {},
   "outputs": [
    {
     "name": "stdout",
     "output_type": "stream",
     "text": [
      "[NbConvertApp] Converting notebook functions.ipynb to script\n",
      "[NbConvertApp] Writing 895 bytes to ../src/common/functions.py\n",
      "\n",
      "[NbConvertApp] Converting notebook layers.ipynb to script\n",
      "[NbConvertApp] Writing 1687 bytes to ../src/common/layers.py\n",
      "\n",
      "[NbConvertApp] Converting notebook neuralnet.ipynb to script\n",
      "[NbConvertApp] Writing 5468 bytes to ../src/models/neuralnet.py\n",
      "\n"
     ]
    }
   ],
   "source": [
    "for k, v in dict_nb.items():\n",
    "    notebook_name = k\n",
    "    output_dir = v\n",
    "    cmd = 'jupyter nbconvert ' \\\n",
    "    + notebook_name + '.ipynb'  \\\n",
    "    + ' --to script --output-dir ' \\\n",
    "    + output_dir\n",
    "    \n",
    "    !{cmd}\n",
    "    !echo"
   ]
  },
  {
   "cell_type": "code",
   "execution_count": null,
   "metadata": {},
   "outputs": [],
   "source": []
  }
 ],
 "metadata": {
  "kernelspec": {
   "display_name": "Python 3",
   "language": "python",
   "name": "python3"
  },
  "language_info": {
   "codemirror_mode": {
    "name": "ipython",
    "version": 3
   },
   "file_extension": ".py",
   "mimetype": "text/x-python",
   "name": "python",
   "nbconvert_exporter": "python",
   "pygments_lexer": "ipython3",
   "version": "3.7.9"
  }
 },
 "nbformat": 4,
 "nbformat_minor": 4
}
