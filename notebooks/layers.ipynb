{
 "cells": [
  {
   "cell_type": "code",
   "execution_count": 1,
   "metadata": {},
   "outputs": [],
   "source": [
    "import numpy as np\n",
    "\n",
    "import sys\n",
    "sys.path.append('../src')\n",
    "from common.functions import *"
   ]
  },
  {
   "cell_type": "code",
   "execution_count": 2,
   "metadata": {},
   "outputs": [],
   "source": [
    "class Affine:\n",
    "    \n",
    "    def __init__(self, W, b):\n",
    "        self.W = W\n",
    "        self.b = b\n",
    "        self.X = None\n",
    "        self.dW = None\n",
    "        self.db = None\n",
    "    \n",
    "    def __call__(self, X):\n",
    "        self.X = X\n",
    "        next_X = np.dot(self.X, self.W) + self.b\n",
    "        return next_X\n",
    "\n",
    "    def backward(self, delta):\n",
    "        next_delta = np.dot(delta, self.W.T)\n",
    "        self.dW = np.dot(self.X.T, delta)\n",
    "        self.db = np.sum(delta, axis=0)\n",
    "        return next_delta\n",
    "    "
   ]
  },
  {
   "cell_type": "code",
   "execution_count": 3,
   "metadata": {},
   "outputs": [],
   "source": [
    "class Sigmoid:\n",
    "    \n",
    "    def __init__(self):\n",
    "        self.X = None\n",
    "        \n",
    "    def __call__(self, X):\n",
    "        next_X = sigmoid(X)\n",
    "        self.X = next_X\n",
    "        return next_X\n",
    "    \n",
    "    def backward(self, delta):\n",
    "        next_delta = delta * sigmoid_deriv(self.X)\n",
    "        return next_delta\n",
    "    "
   ]
  },
  {
   "cell_type": "code",
   "execution_count": 4,
   "metadata": {},
   "outputs": [],
   "source": [
    "class SoftmaxWithLoss:\n",
    "    \n",
    "    def __init__(self):\n",
    "        self.loss = None\n",
    "        self.y = None\n",
    "        self.t = None\n",
    "    \n",
    "    def __call__(self, X, t):\n",
    "        self.y = softmax(X)\n",
    "        self.t = t\n",
    "        loss = cross_entropy_error(self.y, self.t)\n",
    "        self.loss = loss\n",
    "        return loss\n",
    "    \n",
    "    def backward(self, delta=1):\n",
    "        batch_size = self.t.shape[0]\n",
    "        # クラスラベルt（0以上の整数）がone-hotエンコーディング済の場合\n",
    "        if self.t.size == self.y.size: \n",
    "            next_delta = (self.y - self.t) / batch_size\n",
    "        else:\n",
    "            next_delta = self.y.copy()\n",
    "            idx_y = np.arange(batch_size)\n",
    "            idx_t = self.t\n",
    "            next_delta[idx_y, idx_t] -= 1\n",
    "            next_delta /= batch_size\n",
    "        return next_delta\n",
    "    "
   ]
  }
 ],
 "metadata": {
  "kernelspec": {
   "display_name": "Python 3",
   "language": "python",
   "name": "python3"
  },
  "language_info": {
   "codemirror_mode": {
    "name": "ipython",
    "version": 3
   },
   "file_extension": ".py",
   "mimetype": "text/x-python",
   "name": "python",
   "nbconvert_exporter": "python",
   "pygments_lexer": "ipython3",
   "version": "3.7.9"
  }
 },
 "nbformat": 4,
 "nbformat_minor": 4
}
