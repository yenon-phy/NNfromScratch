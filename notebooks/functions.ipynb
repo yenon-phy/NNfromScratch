{
 "cells": [
  {
   "cell_type": "code",
   "execution_count": 1,
   "metadata": {},
   "outputs": [],
   "source": [
    "import numpy as np"
   ]
  },
  {
   "cell_type": "code",
   "execution_count": 2,
   "metadata": {},
   "outputs": [],
   "source": [
    "def sigmoid(x):\n",
    "    y = 1 / (1 + np.exp(-x))\n",
    "    return y\n"
   ]
  },
  {
   "cell_type": "code",
   "execution_count": 3,
   "metadata": {},
   "outputs": [],
   "source": [
    "def sigmoid_deriv(x):\n",
    "    y = x * (1 - x)\n",
    "    return y\n"
   ]
  },
  {
   "cell_type": "code",
   "execution_count": 4,
   "metadata": {},
   "outputs": [],
   "source": [
    "def softmax(x):\n",
    "    x -= np.max(x, axis=-1, keepdims=True)\n",
    "    exp_x = np.exp(x)\n",
    "    sum_exp_x = np.sum(exp_x, axis=-1, keepdims=True)\n",
    "    y = exp_x / sum_exp_x\n",
    "    return y\n"
   ]
  },
  {
   "cell_type": "code",
   "execution_count": 5,
   "metadata": {},
   "outputs": [],
   "source": [
    "def cross_entropy_error(y, t):\n",
    "    if y.ndim == 1:\n",
    "        y = np.expand_dims(y, axis=0)\n",
    "        t = np.expand_dims(t, axis=0)\n",
    "        \n",
    "    batch_size = y.shape[0]\n",
    "    idx_y = np.arange(batch_size)   \n",
    "    \n",
    "    # クラスラベルt（0以上の整数）がone-hotエンコーディング済の場合    \n",
    "    if t.size == y.size:\n",
    "        idx_t = t.argmax(axis=1)  # (0, 0, 0, 1, 0) -> 3\n",
    "    else:\n",
    "        idx_t = t[0]\n",
    "             \n",
    "    eps = 1e-7\n",
    "    delta = -np.sum(np.log(y[idx_y, idx_t] + eps))\n",
    "    delta /= batch_size\n",
    "    return delta\n"
   ]
  }
 ],
 "metadata": {
  "kernelspec": {
   "display_name": "Python 3",
   "language": "python",
   "name": "python3"
  },
  "language_info": {
   "codemirror_mode": {
    "name": "ipython",
    "version": 3
   },
   "file_extension": ".py",
   "mimetype": "text/x-python",
   "name": "python",
   "nbconvert_exporter": "python",
   "pygments_lexer": "ipython3",
   "version": "3.7.9"
  }
 },
 "nbformat": 4,
 "nbformat_minor": 4
}
